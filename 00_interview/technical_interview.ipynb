{
 "cells": [
  {
   "cell_type": "markdown",
   "metadata": {},
   "source": [
    "# Reverse String\n",
    "\n",
    "Soal: Tulis fungsi buat balik string (misal \"halo\" jadi \"olah\").\n",
    "\n",
    "Kenapa ditanyain: Ngetes pemahaman lo soal string manipulation sama logika dasar."
   ]
  },
  {
   "cell_type": "code",
   "execution_count": null,
   "metadata": {
    "vscode": {
     "languageId": "plaintext"
    }
   },
   "outputs": [],
   "source": [
    "def reverse_string(text):\n",
    "    return text[::-1]  # Cara cepet pake slicing\n",
    "    # Alternatif manual: return ''.join(reversed(text))\n",
    "\n",
    "# Test\n",
    "print(reverse_string(\"halo bro\"))  # \"orb olah\""
   ]
  },
  {
   "cell_type": "markdown",
   "metadata": {},
   "source": [
    "Penjelasan:  \n",
    "`text[::-1]` itu slicing Python. Artinya ambil semua karakter dari akhir ke awal.\n",
    "\n",
    "Kalau manual, lo bisa loop dari belakang atau pakai `reversed()`.\n"
   ]
  },
  {
   "cell_type": "markdown",
   "metadata": {},
   "source": [
    "# Palindrome Check\n",
    "Soal: Bikin fungsi buat cek apakah string itu palindrome (dibaca sama dari depan/belakang, misal \"radar\").\n",
    "\n",
    "Kenapa ditanyain: Ngetes logika sama kemampuan ngolah string.\n"
   ]
  },
  {
   "cell_type": "code",
   "execution_count": null,
   "metadata": {
    "vscode": {
     "languageId": "plaintext"
    }
   },
   "outputs": [],
   "source": [
    "def is_palindrome(text):\n",
    "    text = text.lower().replace(\" \", \"\")  # Bersihin string\n",
    "    return text == text[::-1]\n",
    "\n",
    "# Test\n",
    "print(is_palindrome(\"Radar\"))  # True\n",
    "print(is_palindrome(\"halo\"))   # False"
   ]
  },
  {
   "cell_type": "markdown",
   "metadata": {},
   "source": [
    "Penjelasan:  \n",
    "`lower()` mengubah semua karakter menjadi huruf kecil, `replace()` menghapus spasi agar adil.\n",
    "\n",
    "Bandingkan string asli dengan versi yang dibalik.\n"
   ]
  },
  {
   "cell_type": "markdown",
   "metadata": {},
   "source": [
    "# Two Sum\n",
    "Soal: Diketahui list angka sama target, cari dua angka yang jumlahnya sama dengan target, balikin indexnya.\n",
    "Contoh: nums = [2, 7, 11, 15], target = 9, jawaban [0, 1] (soalnya 2 + 7 = 9).\n",
    "Kenapa ditanyain: Ngetes struktur data (dictionary) sama efisiensi (Big-O).\n",
    "\n",
    "Penjelasan:  \n",
    "Gunakan dictionary untuk menyimpan angka yang sudah dilihat dan indeksnya. Saat iterasi, cek apakah `target - angka` sudah ada di dictionary.\n"
   ]
  },
  {
   "cell_type": "code",
   "execution_count": null,
   "metadata": {
    "vscode": {
     "languageId": "plaintext"
    }
   },
   "outputs": [],
   "source": [
    "def two_sum(nums, target):\n",
    "    seen = {}  # Dictionary buat nyimpan angka yang udah diliat\n",
    "    for i, num in enumerate(nums):\n",
    "        complement = target - num\n",
    "        if complement in seen:\n",
    "            return [seen[complement], i]\n",
    "        seen[num] = i\n",
    "    return None\n",
    "\n",
    "# Test\n",
    "print(two_sum([2, 7, 11, 15], 9))  # [0, 1]"
   ]
  },
  {
   "cell_type": "markdown",
   "metadata": {},
   "source": [
    "Penjelasan:  \n",
    "Pake dictionary biar cepet cari `complement` (O(1) lookup).\n",
    "\n",
    "Tiap iterasi, cek apakah `target - num` ada di `seen`. Kalo ada, ketemu jawabannya.\n",
    "\n",
    "Efisiensi: O(n), jauh lebih baik dari brute force O(n²)."
   ]
  }
 ],
 "metadata": {
  "language_info": {
   "name": "python"
  }
 },
 "nbformat": 4,
 "nbformat_minor": 2
}
